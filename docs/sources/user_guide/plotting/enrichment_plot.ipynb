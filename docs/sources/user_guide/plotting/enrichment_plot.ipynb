{
 "cells": [
  {
   "cell_type": "markdown",
   "metadata": {},
   "source": [
    "Sebastian Raschka, 2015  \n",
    "`mlxtend`, a library of extension and helper modules for Python's data analysis and machine learning libraries\n",
    "\n",
    "- GitHub repository: https://github.com/rasbt/mlxtend\n",
    "- Documentation: http://rasbt.github.io/mlxtend/\n",
    "\n",
    "View this page in [jupyter nbviewer](http://nbviewer.ipython.org/github/rasbt/mlxtend/blob/master/docs/sources/_ipynb_templates/general_plotting/enrichment_plot.ipynb)"
   ]
  },
  {
   "cell_type": "code",
   "execution_count": 2,
   "metadata": {
    "collapsed": false
   },
   "outputs": [
    {
     "name": "stdout",
     "output_type": "stream",
     "text": [
      "The watermark extension is already loaded. To reload it, use:\n",
      "  %reload_ext watermark\n",
      "Sebastian Raschka \n",
      "last updated: 2016-01-30 \n",
      "\n",
      "CPython 3.5.1\n",
      "IPython 4.0.3\n",
      "\n",
      "matplotlib 1.5.1\n",
      "numpy 1.10.2\n",
      "scipy 0.16.1\n",
      "mlxtend 0.3.0\n"
     ]
    }
   ],
   "source": [
    "%load_ext watermark\n",
    "%watermark -a 'Sebastian Raschka' -u -d -v -p matplotlib,numpy,scipy,mlxtend"
   ]
  },
  {
   "cell_type": "markdown",
   "metadata": {},
   "source": [
    "# Enrichment Plot"
   ]
  },
  {
   "cell_type": "markdown",
   "metadata": {},
   "source": [
    "A function to plot step plots of cumulative counts."
   ]
  },
  {
   "cell_type": "markdown",
   "metadata": {},
   "source": [
    "> from mlxtend.general_plotting import category_scatter"
   ]
  },
  {
   "cell_type": "markdown",
   "metadata": {},
   "source": [
    "## Overview"
   ]
  },
  {
   "cell_type": "markdown",
   "metadata": {},
   "source": [
    "In enrichment plots, the y-axis can be interpreted as \"how many samples are less or equal to the corresponding x-axis label.\""
   ]
  },
  {
   "cell_type": "markdown",
   "metadata": {},
   "source": [
    "### References\n",
    "\n",
    "- -"
   ]
  },
  {
   "cell_type": "markdown",
   "metadata": {},
   "source": [
    "## Examples"
   ]
  },
  {
   "cell_type": "markdown",
   "metadata": {},
   "source": [
    "### Example 1 - Enrichment Plots from Pandas DataFrames"
   ]
  },
  {
   "cell_type": "code",
   "execution_count": 3,
   "metadata": {
    "collapsed": false
   },
   "outputs": [
    {
     "data": {
      "text/html": [
       "<div>\n",
       "<table border=\"1\" class=\"dataframe\">\n",
       "  <thead>\n",
       "    <tr style=\"text-align: right;\">\n",
       "      <th></th>\n",
       "      <th>X1</th>\n",
       "      <th>X2</th>\n",
       "    </tr>\n",
       "  </thead>\n",
       "  <tbody>\n",
       "    <tr>\n",
       "      <th>0</th>\n",
       "      <td>1.1</td>\n",
       "      <td>1.5</td>\n",
       "    </tr>\n",
       "    <tr>\n",
       "      <th>1</th>\n",
       "      <td>2.1</td>\n",
       "      <td>1.8</td>\n",
       "    </tr>\n",
       "    <tr>\n",
       "      <th>2</th>\n",
       "      <td>3.1</td>\n",
       "      <td>2.1</td>\n",
       "    </tr>\n",
       "    <tr>\n",
       "      <th>3</th>\n",
       "      <td>3.9</td>\n",
       "      <td>2.5</td>\n",
       "    </tr>\n",
       "  </tbody>\n",
       "</table>\n",
       "</div>"
      ],
      "text/plain": [
       "    X1   X2\n",
       "0  1.1  1.5\n",
       "1  2.1  1.8\n",
       "2  3.1  2.1\n",
       "3  3.9  2.5"
      ]
     },
     "execution_count": 3,
     "metadata": {},
     "output_type": "execute_result"
    }
   ],
   "source": [
    "import pandas as pd\n",
    "s1 = [1.1, 1.5]\n",
    "s2 = [2.1, 1.8]\n",
    "s3 = [3.1, 2.1]\n",
    "s4 = [3.9, 2.5]\n",
    "data = [s1, s2, s3, s4]\n",
    "df = pd.DataFrame(data, columns=['X1', 'X2'])\n",
    "df"
   ]
  },
  {
   "cell_type": "markdown",
   "metadata": {},
   "source": [
    "Plotting the data where the categories are determined by the unique values in the label column `label_col`. The `x` and `y` values are simply the column names of the DataFrame that we want to plot."
   ]
  },
  {
   "cell_type": "code",
   "execution_count": 4,
   "metadata": {
    "collapsed": false
   },
   "outputs": [
    {
     "data": {
      "image/png": "[encoded data removed]",
      "text/plain": [
       "<matplotlib.figure.Figure at 0x104313c50>"
      ]
     },
     "metadata": {},
     "output_type": "display_data"
    }
   ],
   "source": [
    "%matplotlib inline\n",
    "import matplotlib.pyplot as plt\n",
    "from mlxtend.general_plotting import enrichment_plot\n",
    "\n",
    "ax = enrichment_plot(df, legend_loc='upper left')"
   ]
  },
  {
   "cell_type": "markdown",
   "metadata": {},
   "source": [
    "## API"
   ]
  },
  {
   "cell_type": "code",
   "execution_count": 6,
   "metadata": {
    "collapsed": false
   },
   "outputs": [
    {
     "name": "stdout",
     "output_type": "stream",
     "text": [
      "## enrichment_plot\n",
      "\n",
      "*enrichment_plot(df, colors='bgrkcy', markers=' ', linestyles='-', alpha=0.5, lw=2, legend=True, where='post', grid=True, count_label='Count', xlim='auto', ylim='auto', invert_axes=False, legend_loc='best', ax=None)*\n",
      "\n",
      "Plot stacked barplots\n",
      "\n",
      "**Parameters**\n",
      "\n",
      "- `df` : pandas.DataFrame\n",
      "\n",
      "    A pandas DataFrame where columns represent the different categories.\n",
      "    colors: str (default: 'bgrcky')\n",
      "    The colors of the bars.\n",
      "\n",
      "- `markers` : str (default: ' ')\n",
      "\n",
      "    Matplotlib markerstyles, e.g,\n",
      "    'sov' for square,circle, and triangle markers.\n",
      "\n",
      "- `linestyles` : str (default: '-')\n",
      "\n",
      "    Matplotlib linestyles, e.g.,\n",
      "    '-,--' to cycle normal and dashed lines. Note\n",
      "    that the different linestyles need to be separated by commas.\n",
      "\n",
      "- `alpha` : float (default: 0.5)\n",
      "\n",
      "    Transparency level from 0.0 to 1.0.\n",
      "\n",
      "- `lw` : int or float (default: 2)\n",
      "\n",
      "    Linewidth parameter.\n",
      "\n",
      "- `legend` : bool (default: True)\n",
      "\n",
      "    Plots legend if True.\n",
      "\n",
      "- `where` : {'post', 'pre', 'mid'} (default: 'post')\n",
      "\n",
      "    Starting location of the steps.\n",
      "\n",
      "- `grid` : bool (default: `True`)\n",
      "\n",
      "    Plots a grid if True.\n",
      "\n",
      "- `count_label` : str (default: 'Count')\n",
      "\n",
      "    Label for the \"Count\"-axis.\n",
      "\n",
      "- `xlim` : 'auto' or array-like [min, max] (default: 'auto')\n",
      "\n",
      "    Min and maximum position of the x-axis range.\n",
      "\n",
      "- `ylim` : 'auto' or array-like [min, max] (default: 'auto')\n",
      "\n",
      "    Min and maximum position of the y-axis range.\n",
      "\n",
      "- `invert_axes` : bool (default: False)\n",
      "\n",
      "    Plots count on the x-axis if True.\n",
      "\n",
      "- `legend_loc` : str (default: 'best')\n",
      "\n",
      "    Location of the plot legend\n",
      "    {best, upper left, upper right, lower left, lower right}\n",
      "    No legend if legend_loc=False\n",
      "\n",
      "- `ax` : matplotlib axis, optional (default: None)\n",
      "\n",
      "    Use this axis for plotting or make a new one otherwise\n",
      "\n",
      "**Returns**\n",
      "\n",
      "- `ax` : matplotlib axis\n",
      "\n",
      "\n",
      "\n"
     ]
    }
   ],
   "source": [
    "with open('../../api_modules/mlxtend.general_plotting/enrichment_plot.md', 'r') as f:\n",
    "    print(f.read())"
   ]
  }
 ],
 "metadata": {
  "kernelspec": {
   "display_name": "Python 3",
   "language": "python",
   "name": "python3"
  },
  "language_info": {
   "codemirror_mode": {
    "name": "ipython",
    "version": 3
   },
   "file_extension": ".py",
   "mimetype": "text/x-python",
   "name": "python",
   "nbconvert_exporter": "python",
   "pygments_lexer": "ipython3",
   "version": "3.5.1"
  }
 },
 "nbformat": 4,
 "nbformat_minor": 0
}
