{
 "cells": [
  {
   "cell_type": "markdown",
   "metadata": {},
   "source": [
    "Sebastian Raschka, 2015  \n",
    "`mlxtend`, a library of extension and helper modules for Python's data analysis and machine learning libraries\n",
    "\n",
    "- GitHub repository: https://github.com/rasbt/mlxtend\n",
    "- Documentation: http://rasbt.github.io/mlxtend/\n",
    "\n",
    "View this page in [jupyter nbviewer](http://nbviewer.ipython.org/github/rasbt/mlxtend/blob/master/docs/sources/_ipynb_templates/general_plotting/category_scatter.ipynb)"
   ]
  },
  {
   "cell_type": "code",
   "execution_count": 1,
   "metadata": {
    "collapsed": false
   },
   "outputs": [
    {
     "name": "stdout",
     "output_type": "stream",
     "text": [
      "Sebastian Raschka \n",
      "last updated: 2016-01-30 \n",
      "\n",
      "CPython 3.5.1\n",
      "IPython 4.0.3\n",
      "\n",
      "matplotlib 1.5.1\n",
      "numpy 1.10.2\n",
      "scipy 0.16.1\n"
     ]
    }
   ],
   "source": [
    "%load_ext watermark\n",
    "%watermark -a 'Sebastian Raschka' -u -d -v -p matplotlib,numpy,scipy"
   ]
  },
  {
   "cell_type": "markdown",
   "metadata": {},
   "source": [
    "# Scatterplot with Categories"
   ]
  },
  {
   "cell_type": "markdown",
   "metadata": {},
   "source": [
    "A function to quickly produce a scatter plot colored by categories from a pandas `DataFrame` or NumPy `ndarray` object."
   ]
  },
  {
   "cell_type": "markdown",
   "metadata": {},
   "source": [
    "> from mlxtend.general_plotting import category_scatter"
   ]
  },
  {
   "cell_type": "markdown",
   "metadata": {},
   "source": [
    "## Overview"
   ]
  },
  {
   "cell_type": "markdown",
   "metadata": {},
   "source": [
    "### References\n",
    "\n",
    "- -"
   ]
  },
  {
   "cell_type": "markdown",
   "metadata": {},
   "source": [
    "## Examples"
   ]
  },
  {
   "cell_type": "markdown",
   "metadata": {},
   "source": [
    "### Example 1 - Category Scatter from Pandas DataFrames"
   ]
  },
  {
   "cell_type": "code",
   "execution_count": 2,
   "metadata": {
    "collapsed": false
   },
   "outputs": [
    {
     "data": {
      "text/html": [
       "<div>\n",
       "<table border=\"1\" class=\"dataframe\">\n",
       "  <thead>\n",
       "    <tr style=\"text-align: right;\">\n",
       "      <th></th>\n",
       "      <th>label</th>\n",
       "      <th>x</th>\n",
       "      <th>y</th>\n",
       "    </tr>\n",
       "  </thead>\n",
       "  <tbody>\n",
       "    <tr>\n",
       "      <th>0</th>\n",
       "      <td>class1</td>\n",
       "      <td>10.0</td>\n",
       "      <td>8.04</td>\n",
       "    </tr>\n",
       "    <tr>\n",
       "      <th>1</th>\n",
       "      <td>class1</td>\n",
       "      <td>10.5</td>\n",
       "      <td>7.30</td>\n",
       "    </tr>\n",
       "    <tr>\n",
       "      <th>2</th>\n",
       "      <td>class2</td>\n",
       "      <td>8.3</td>\n",
       "      <td>5.50</td>\n",
       "    </tr>\n",
       "    <tr>\n",
       "      <th>3</th>\n",
       "      <td>class2</td>\n",
       "      <td>8.1</td>\n",
       "      <td>5.90</td>\n",
       "    </tr>\n",
       "    <tr>\n",
       "      <th>4</th>\n",
       "      <td>class3</td>\n",
       "      <td>3.5</td>\n",
       "      <td>3.50</td>\n",
       "    </tr>\n",
       "    <tr>\n",
       "      <th>5</th>\n",
       "      <td>class3</td>\n",
       "      <td>3.8</td>\n",
       "      <td>5.10</td>\n",
       "    </tr>\n",
       "  </tbody>\n",
       "</table>\n",
       "</div>"
      ],
      "text/plain": [
       "    label     x     y\n",
       "0  class1  10.0  8.04\n",
       "1  class1  10.5  7.30\n",
       "2  class2   8.3  5.50\n",
       "3  class2   8.1  5.90\n",
       "4  class3   3.5  3.50\n",
       "5  class3   3.8  5.10"
      ]
     },
     "execution_count": 2,
     "metadata": {},
     "output_type": "execute_result"
    }
   ],
   "source": [
    "import pandas as pd\n",
    "from io import StringIO\n",
    "\n",
    "csvfile = \"\"\"label,x,y\n",
    "class1,10.0,8.04\n",
    "class1,10.5,7.30\n",
    "class2,8.3,5.5\n",
    "class2,8.1,5.9\n",
    "class3,3.5,3.5\n",
    "class3,3.8,5.1\"\"\"\n",
    "\n",
    "df = pd.read_csv(StringIO(csvfile))\n",
    "df"
   ]
  },
  {
   "cell_type": "markdown",
   "metadata": {},
   "source": [
    "Plotting the data where the categories are determined by the unique values in the label column `label_col`. The `x` and `y` values are simply the column names of the DataFrame that we want to plot."
   ]
  },
  {
   "cell_type": "code",
   "execution_count": 3,
   "metadata": {
    "collapsed": false
   },
   "outputs": [
    {
     "data": {
      "image/png": "[encoded data removed]",
      "text/plain": [
       "<matplotlib.figure.Figure at 0x105f6f6d8>"
      ]
     },
     "metadata": {},
     "output_type": "display_data"
    }
   ],
   "source": [
    "%matplotlib inline\n",
    "import matplotlib.pyplot as plt\n",
    "from mlxtend.general_plotting import category_scatter\n",
    "\n",
    "fig = category_scatter(x='x', y='y', label_col='label', \n",
    "                       data=df, legend_loc='upper left')"
   ]
  },
  {
   "cell_type": "markdown",
   "metadata": {},
   "source": [
    "### Example 2 - Category Scatter from NumPy Arrays"
   ]
  },
  {
   "cell_type": "code",
   "execution_count": 4,
   "metadata": {
    "collapsed": false
   },
   "outputs": [
    {
     "data": {
      "text/plain": [
       "array([[  1.  ,  10.  ,   8.04],\n",
       "       [  1.  ,  10.5 ,   7.3 ],\n",
       "       [  2.  ,   8.3 ,   5.5 ],\n",
       "       [  2.  ,   8.1 ,   5.9 ],\n",
       "       [  3.  ,   3.5 ,   3.5 ],\n",
       "       [  3.  ,   3.8 ,   5.1 ]])"
      ]
     },
     "execution_count": 4,
     "metadata": {},
     "output_type": "execute_result"
    }
   ],
   "source": [
    "import numpy as np\n",
    "from io import BytesIO\n",
    "\n",
    "csvfile = \"\"\"1,10.0,8.04\n",
    "1,10.5,7.30\n",
    "2,8.3,5.5\n",
    "2,8.1,5.9\n",
    "3,3.5,3.5\n",
    "3,3.8,5.1\"\"\"\n",
    "\n",
    "ary = np.genfromtxt(BytesIO(csvfile.encode()), delimiter=',')\n",
    "ary"
   ]
  },
  {
   "cell_type": "markdown",
   "metadata": {},
   "source": [
    "Now, pretending that the first column represents the labels, and the second and third column represent the `x` and `y` values, respectively."
   ]
  },
  {
   "cell_type": "code",
   "execution_count": 5,
   "metadata": {
    "collapsed": false
   },
   "outputs": [
    {
     "data": {
      "image/png": "[encoded data removed]",
      "text/plain": [
       "<matplotlib.figure.Figure at 0x106b56550>"
      ]
     },
     "metadata": {},
     "output_type": "display_data"
    }
   ],
   "source": [
    "%matplotlib inline\n",
    "import matplotlib.pyplot as plt\n",
    "from mlxtend.general_plotting import category_scatter\n",
    "\n",
    "fix = category_scatter(x=1, y=2, label_col=0, \n",
    "                       data=ary, legend_loc='upper left')"
   ]
  },
  {
   "cell_type": "markdown",
   "metadata": {},
   "source": [
    "## API"
   ]
  },
  {
   "cell_type": "code",
   "execution_count": 7,
   "metadata": {
    "collapsed": false
   },
   "outputs": [
    {
     "name": "stdout",
     "output_type": "stream",
     "text": [
      "## category_scatter\n",
      "\n",
      "*category_scatter(x, y, label_col, data, markers='sxo^v', colors=('blue', 'green', 'red', 'purple', 'gray', 'cyan'), alpha=0.7, markersize=20.0, legend_loc='best')*\n",
      "\n",
      "Scatter plot to plot categories in different colors/markerstyles.\n",
      "\n",
      "**Parameters**\n",
      "\n",
      "- `x` : str or int\n",
      "\n",
      "    DataFrame column name of the x-axis values or\n",
      "    integer for the numpy ndarray column index.\n",
      "\n",
      "- `y` : str\n",
      "\n",
      "    DataFrame column name of the y-axis values or\n",
      "    integer for the numpy ndarray column index\n",
      "\n",
      "- `data` : Pandas DataFrame object or NumPy ndarray.\n",
      "\n",
      "\n",
      "- `markers` : str\n",
      "\n",
      "    Markers that are cycled through the label category.\n",
      "\n",
      "- `colors` : tuple\n",
      "\n",
      "    Colors that are cycled through the label category.\n",
      "\n",
      "- `alpha` : float (default: 0.7)\n",
      "\n",
      "    Parameter to control the transparency.\n",
      "\n",
      "- `markersize` : float (default` : 20.0)\n",
      "\n",
      "    Parameter to control the marker size.\n",
      "\n",
      "- `legend_loc` : str (default: 'best')\n",
      "\n",
      "    Location of the plot legend\n",
      "    {best, upper left, upper right, lower left, lower right}\n",
      "    No legend if legend_loc=False\n",
      "\n",
      "**Returns**\n",
      "\n",
      "- `fig` : matplotlig.pyplot figure object\n",
      "\n",
      "\n",
      "\n"
     ]
    }
   ],
   "source": [
    "with open('../../api_modules/mlxtend.general_plotting/category_scatter.md', 'r') as f:\n",
    "    print(f.read())"
   ]
  }
 ],
 "metadata": {
  "kernelspec": {
   "display_name": "Python 3",
   "language": "python",
   "name": "python3"
  },
  "language_info": {
   "codemirror_mode": {
    "name": "ipython",
    "version": 3
   },
   "file_extension": ".py",
   "mimetype": "text/x-python",
   "name": "python",
   "nbconvert_exporter": "python",
   "pygments_lexer": "ipython3",
   "version": "3.5.1"
  }
 },
 "nbformat": 4,
 "nbformat_minor": 0
}
